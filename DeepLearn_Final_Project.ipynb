{
  "nbformat": 4,
  "nbformat_minor": 0,
  "metadata": {
    "colab": {
      "provenance": [],
      "machine_shape": "hm",
      "gpuType": "T4",
      "authorship_tag": "ABX9TyM2NQ6jrFWtEaK4piHfdFGM",
      "include_colab_link": true
    },
    "kernelspec": {
      "name": "python3",
      "display_name": "Python 3"
    },
    "language_info": {
      "name": "python"
    },
    "accelerator": "GPU"
  },
  "cells": [
    {
      "cell_type": "markdown",
      "metadata": {
        "id": "view-in-github",
        "colab_type": "text"
      },
      "source": [
        "<a href=\"https://colab.research.google.com/github/Rayatcoding/Chest-X-Rays-Classification/blob/main/DeepLearn_Final_Project.ipynb\" target=\"_parent\"><img src=\"https://colab.research.google.com/assets/colab-badge.svg\" alt=\"Open In Colab\"/></a>"
      ]
    },
    {
      "cell_type": "markdown",
      "source": [
        "1.1 Download data and unzip to google drive"
      ],
      "metadata": {
        "id": "lew-HDtt6D_0"
      }
    },
    {
      "cell_type": "code",
      "execution_count": null,
      "metadata": {
        "id": "fShbRZfotoEH",
        "colab": {
          "base_uri": "https://localhost:8080/"
        },
        "outputId": "fc37a891-cb69-46f1-a911-fc1dac94ed0b"
      },
      "outputs": [
        {
          "metadata": {
            "tags": null
          },
          "name": "stdout",
          "output_type": "stream",
          "text": [
            "Mounted at /content/drive\n",
            "Dataset URL: https://www.kaggle.com/datasets/nih-chest-xrays/data\n",
            "License(s): CC0-1.0\n",
            "Downloading data.zip to /content/drive/MyDrive/CS7643_DL_project/Dataset\n",
            "100% 42.0G/42.0G [12:07<00:01, 4.31MB/s]\n",
            "100% 42.0G/42.0G [12:07<00:00, 62.0MB/s]\n"
          ]
        }
      ],
      "source": [
        "# prompt: download the https://www.kaggle.com/datasets/nih-chest-xrays/data/data to google drive '/content/drive/MyDrive/CS7643_DL_project/Dataset' and unzip there\n",
        "\n",
        "import os\n",
        "from google.colab import drive\n",
        "\n",
        "# Mount Google Drive\n",
        "drive.mount('/content/drive')\n",
        "\n",
        "# Define the destination path\n",
        "destination_path = '/content/drive/MyDrive/CS7643_DL_project/Dataset'\n",
        "\n",
        "# Create the destination directory if it doesn't exist\n",
        "if not os.path.exists(destination_path):\n",
        "    os.makedirs(destination_path)\n",
        "\n",
        "# Download the Kaggle dataset (replace with your actual Kaggle dataset link)\n",
        "!kaggle datasets download -d nih-chest-xrays/data -p {destination_path}\n",
        "\n",
        "# Unzip the downloaded dataset\n",
        "!unzip -n -q {destination_path}/data.zip -d {destination_path}\n",
        "\n",
        "# Remove the zip file\n",
        "# !rm {destination_path}/data.zip"
      ]
    },
    {
      "cell_type": "markdown",
      "source": [
        "1.2 Move and re-organize data"
      ],
      "metadata": {
        "id": "M-ADC0T76W-z"
      }
    },
    {
      "cell_type": "code",
      "source": [
        "import os\n",
        "import shutil\n",
        "from google.colab import drive\n",
        "\n",
        "# Mount Google Drive\n",
        "drive.mount('/content/drive')\n",
        "\n",
        "# Define paths\n",
        "dataset_path = '/content/drive/MyDrive/CS7643_DL_project/Dataset'\n",
        "test_list_path = os.path.join(dataset_path, 'test_list.txt')\n",
        "test_set_path = os.path.join(dataset_path, 'Test_set')\n",
        "train_set_path = os.path.join(dataset_path, 'Train_set')\n",
        "\n",
        "# Create Test_set and Train_set directories if they don't exist\n",
        "os.makedirs(test_set_path, exist_ok=True)\n",
        "os.makedirs(train_set_path, exist_ok=True)\n",
        "\n",
        "# Read test file names from test_list.txt\n",
        "with open(test_list_path, 'r') as f:\n",
        "  test_files = [line.strip() for line in f]\n",
        "\n",
        "# Iterate through all files in the dataset directory and its subdirectories\n",
        "for root, _, files in os.walk(dataset_path):\n",
        "  # Skip train_set and test_set directories\n",
        "  if root == test_set_path or root == train_set_path:\n",
        "    continue\n",
        "\n",
        "  for filename in files:\n",
        "    if filename.endswith(\".png\"):\n",
        "      file_path = os.path.join(root, filename)\n",
        "\n",
        "      # Check if the file is in the test list\n",
        "      if filename in test_files:\n",
        "        # Construct the destination path\n",
        "        destination_path = os.path.join(test_set_path, filename)\n",
        "\n",
        "        # Check if the file already exists in the destination\n",
        "        if os.path.exists(destination_path):\n",
        "          print(f\"Skipped: {file_path} (already in Test_set)\")\n",
        "          continue  # Skip to the next file\n",
        "\n",
        "        # Move to Test_set\n",
        "        shutil.move(file_path, test_set_path)\n",
        "        print(f\"Moved: {file_path} to {test_set_path}\")\n",
        "      else:\n",
        "        # Construct the destination path\n",
        "        destination_path = os.path.join(train_set_path, filename)\n",
        "\n",
        "        # Check if the file already exists in the destination\n",
        "        if os.path.exists(destination_path):\n",
        "          print(f\"Skipped: {file_path} (already in Train_set)\")\n",
        "          continue  # Skip to the next file\n",
        "\n",
        "        # Move to Train_set\n",
        "        shutil.move(file_path, train_set_path)\n",
        "        print(f\"Moved: {file_path} to {train_set_path}\")\n",
        "\n",
        "print(\"Image classification and movement complete.\")"
      ],
      "metadata": {
        "colab": {
          "base_uri": "https://localhost:8080/"
        },
        "id": "rzIBpkxSwhFI",
        "outputId": "fe15ace7-fd1d-4815-acc6-1a4c997f866c"
      },
      "execution_count": null,
      "outputs": [
        {
          "output_type": "stream",
          "name": "stdout",
          "text": [
            "Drive already mounted at /content/drive; to attempt to forcibly remount, call drive.mount(\"/content/drive\", force_remount=True).\n",
            "Image classification and movement complete.\n"
          ]
        }
      ]
    },
    {
      "cell_type": "markdown",
      "source": [
        "1.3 Create Test Data ID to Label Mapping"
      ],
      "metadata": {
        "id": "HIOfybdm6dp0"
      }
    },
    {
      "cell_type": "code",
      "source": [
        "import pandas as pd\n",
        "\n",
        "# Define file paths\n",
        "test_list_path = '/content/drive/MyDrive/CS7643_DL_project/Dataset/test_list.txt'\n",
        "data_entry_path = '/content/drive/MyDrive/CS7643_DL_project/Dataset/Data_Entry_2017.csv'\n",
        "output_path = '/content/drive/MyDrive/CS7643_DL_project/Dataset/test_set_label.csv'  # Change output file extension\n",
        "\n",
        "# Read test_id from test_list.txt\n",
        "with open(test_list_path, 'r') as f:\n",
        "    test_ids = [line.strip() for line in f]\n",
        "\n",
        "# Read Data_Entry_2017.csv file\n",
        "data_entry = pd.read_csv(data_entry_path)\n",
        "\n",
        "# Create a list to store data\n",
        "test_labels = []\n",
        "\n",
        "# Iterate through test_ids, find the corresponding label in data_entry\n",
        "for test_id in test_ids:\n",
        "    label = data_entry.loc[data_entry['Image Index'] == test_id, 'Finding Labels'].iloc[0]\n",
        "    test_labels.append([test_id, label])  # Add data to the list\n",
        "\n",
        "# Create DataFrame and save as CSV file\n",
        "df = pd.DataFrame(test_labels, columns=['Image Index', 'Finding Labels'])\n",
        "df.to_csv(output_path, index=False)  # index=False to avoid writing row index\n",
        "\n",
        "print(f'Generated test_set_label file: {output_path}')"
      ],
      "metadata": {
        "id": "2HNsTfnP5-13",
        "colab": {
          "base_uri": "https://localhost:8080/"
        },
        "outputId": "fb3c56f3-5b8f-4950-fc61-f22d89f73c4d"
      },
      "execution_count": null,
      "outputs": [
        {
          "output_type": "stream",
          "name": "stdout",
          "text": [
            "Mounted at /content/drive\n",
            "已生成 test_set_label 文件：/content/drive/MyDrive/CS7643_DL_project/Dataset/test_set_label.csv\n"
          ]
        }
      ]
    },
    {
      "cell_type": "markdown",
      "source": [
        "1.4 Create Mini version of Trainset and Testset, 10% of original"
      ],
      "metadata": {
        "id": "akLtzgPjCQZ7"
      }
    },
    {
      "cell_type": "code",
      "source": [
        "import pandas as pd\n",
        "import os\n",
        "import shutil\n",
        "from sklearn.model_selection import train_test_split\n",
        "\n",
        "# create paths\n",
        "test_set_label_path = '/content/drive/MyDrive/CS7643_DL_project/Dataset/test_set_label.csv'\n",
        "test_set_path = '/content/drive/MyDrive/CS7643_DL_project/Dataset/Test_set'\n",
        "test_set_mini_path = '/content/drive/MyDrive/CS7643_DL_project/Dataset/Test_set_mini'\n",
        "train_val_list_path = '/content/drive/MyDrive/CS7643_DL_project/Dataset/train_val_list.txt'\n",
        "data_entry_path = '/content/drive/MyDrive/CS7643_DL_project/Dataset/Data_Entry_2017.csv'\n",
        "train_set_path = '/content/drive/MyDrive/CS7643_DL_project/Dataset/Train_set'\n",
        "train_set_mini_path = '/content/drive/MyDrive/CS7643_DL_project/Dataset/Train_set_mini'\n",
        "test_list_path = '/content/drive/MyDrive/CS7643_DL_project/Dataset/test_list.txt' # 添加 test_list.txt 的路径\n",
        "\n",
        "\n",
        "# check if dirs exist\n",
        "os.makedirs(test_set_mini_path, exist_ok=True)\n",
        "os.makedirs(train_set_mini_path, exist_ok=True)\n",
        "\n",
        "# --- process testset ---\n",
        "\n",
        "test_labels_df = pd.read_csv(test_set_label_path)\n",
        "\n",
        "# get 10% of each label category\n",
        "test_labels_mini_df = test_labels_df.groupby('Finding Labels').apply(lambda x: x.sample(frac=0.1)).reset_index(drop=True)\n",
        "\n",
        "test_labels_mini_df.to_csv(os.path.join(os.path.dirname(test_set_label_path), 'test_set_label_mini.csv'), index=False)\n",
        "\n",
        "# copy the images to new folder\n",
        "for _, row in test_labels_mini_df.iterrows():\n",
        "    image_name = row['Image Index']\n",
        "    source_path = os.path.join(test_set_path, image_name)\n",
        "    destination_path = os.path.join(test_set_mini_path, image_name)\n",
        "    shutil.copy(source_path, destination_path)\n",
        "\n",
        "print(\"Test set mini created.\")\n",
        "\n",
        "# --- process trainset ---\n",
        "\n",
        "with open(train_val_list_path, 'r') as f:\n",
        "    train_val_list = [line.strip() for line in f]\n",
        "\n",
        "with open(test_list_path, 'r') as f:\n",
        "    test_list = [line.strip() for line in f]\n",
        "\n",
        "# make sure trainset images only\n",
        "train_val_list = [image for image in train_val_list if image not in test_list]\n",
        "\n",
        "data_entry_df = pd.read_csv(data_entry_path)\n",
        "\n",
        "train_val_df = data_entry_df[data_entry_df['Image Index'].isin(train_val_list)]\n",
        "\n",
        "# reduce to 10% of original trainset\n",
        "train_val_mini_df = train_val_df.groupby('Finding Labels').apply(lambda x: x.sample(frac=0.1)).reset_index(drop=True)\n",
        "\n",
        "# save the mini trainset label\n",
        "train_val_mini_df.to_csv(os.path.join(os.path.dirname(data_entry_path), 'train_set_label_mini.csv'), index=False)\n",
        "\n",
        "\n",
        "# copy\n",
        "for _, row in train_val_mini_df.iterrows():\n",
        "    image_name = row['Image Index']\n",
        "    source_path = os.path.join(train_set_path, image_name)\n",
        "    destination_path = os.path.join(train_set_mini_path, image_name)\n",
        "    shutil.copy(source_path, destination_path)\n",
        "\n",
        "print(\"Train set mini created.\")"
      ],
      "metadata": {
        "colab": {
          "base_uri": "https://localhost:8080/"
        },
        "id": "k6mHv7elCaYY",
        "outputId": "51b86664-7b05-4ebc-9b07-cd6a62cbf7fc"
      },
      "execution_count": null,
      "outputs": [
        {
          "metadata": {
            "tags": null
          },
          "name": "stderr",
          "output_type": "stream",
          "text": [
            "<ipython-input-2-9c15cec4ffea>:27: DeprecationWarning: DataFrameGroupBy.apply operated on the grouping columns. This behavior is deprecated, and in a future version of pandas the grouping columns will be excluded from the operation. Either pass `include_groups=False` to exclude the groupings or explicitly select the grouping columns after groupby to silence this warning.\n",
            "  test_labels_mini_df = test_labels_df.groupby('Finding Labels').apply(lambda x: x.sample(frac=0.1)).reset_index(drop=True)\n"
          ]
        },
        {
          "output_type": "stream",
          "name": "stdout",
          "text": [
            "Test set mini created.\n"
          ]
        },
        {
          "output_type": "stream",
          "name": "stderr",
          "text": [
            "<ipython-input-2-9c15cec4ffea>:61: DeprecationWarning: DataFrameGroupBy.apply operated on the grouping columns. This behavior is deprecated, and in a future version of pandas the grouping columns will be excluded from the operation. Either pass `include_groups=False` to exclude the groupings or explicitly select the grouping columns after groupby to silence this warning.\n",
            "  train_val_mini_df = train_val_df.groupby('Finding Labels').apply(lambda x: x.sample(frac=0.1)).reset_index(drop=True)\n"
          ]
        },
        {
          "output_type": "stream",
          "name": "stdout",
          "text": [
            "Train set mini created.\n"
          ]
        }
      ]
    },
    {
      "cell_type": "markdown",
      "source": [
        "1.5 Testset Evaluation on AlexNet,ResNet152,Inception_V3"
      ],
      "metadata": {
        "id": "2BEeq8qBDd3H"
      }
    },
    {
      "cell_type": "code",
      "source": [
        "import os\n",
        "import torch\n",
        "import torchvision.transforms as transforms\n",
        "from torchvision import models\n",
        "from torch.utils.data import Dataset, DataLoader\n",
        "from PIL import Image\n",
        "from sklearn.metrics import f1_score, roc_auc_score\n",
        "import pandas as pd\n",
        "from tqdm import tqdm\n",
        "from google.colab import drive\n",
        "\n",
        "# Mount Google Drive\n",
        "drive.mount('/content/drive')\n",
        "\n",
        "test_set_path = '/content/drive/MyDrive/CS7643_DL_project/Dataset/Test_set_mini'\n",
        "# test_set_path = '/content/drive/MyDrive/CS7643_DL_project/Dataset/Test_set'\n",
        "test_set_label_path = '/content/drive/MyDrive/CS7643_DL_project/Dataset/test_set_label_mini.csv'\n",
        "# test_set_label_path = '/content/drive/MyDrive/CS7643_DL_project/Dataset/test_set_label.csv'\n",
        "output_path = '/content/drive/MyDrive/CS7643_DL_project/Dataset/evaluation_results.csv'\n",
        "\n",
        "device = torch.device(\"cuda\" if torch.cuda.is_available() else \"cpu\")\n",
        "print(f\"Using device: {device}\")\n",
        "\n",
        "test_labels_df = pd.read_csv(test_set_label_path)\n",
        "test_labels = {row['Image Index']: row['Finding Labels'] for _, row in test_labels_df.iterrows()}\n",
        "\n",
        "all_labels = sorted(set(label for labels in test_labels.values() for label in labels.split('|')))\n",
        "label_to_idx = {label: idx for idx, label in enumerate(all_labels)}\n",
        "print(f\"Unique labels: {all_labels}\")\n",
        "print(f\"Number of labels: {len(all_labels)}\")\n",
        "\n",
        "# one hot encoding\n",
        "def encode_labels(labels):\n",
        "    encoded = [0] * len(label_to_idx)\n",
        "    for label in labels.split('|'):\n",
        "        encoded[label_to_idx[label]] = 1\n",
        "    return encoded\n",
        "\n",
        "# image pre-process\n",
        "transform = transforms.Compose([\n",
        "    transforms.Resize((224, 224)),\n",
        "    transforms.ToTensor(),\n",
        "    transforms.Normalize(mean=[0.485, 0.456, 0.406], std=[0.229, 0.224, 0.225])\n",
        "])\n",
        "\n",
        "# create dataset\n",
        "class TestDataset(Dataset):\n",
        "    def __init__(self, image_dir, labels, transform=None):\n",
        "        self.image_dir = image_dir\n",
        "        self.labels = labels\n",
        "        self.transform = transform\n",
        "        self.image_names = os.listdir(image_dir)\n",
        "\n",
        "    def __len__(self):\n",
        "        return len(self.image_names)\n",
        "\n",
        "    def __getitem__(self, idx):\n",
        "        image_name = self.image_names[idx]\n",
        "        image_path = os.path.join(self.image_dir, image_name)\n",
        "        image = Image.open(image_path).convert('RGB')\n",
        "        if self.transform:\n",
        "            image = self.transform(image)\n",
        "        label = encode_labels(self.labels[image_name])  # change to multi one hot encoding\n",
        "        return image, torch.tensor(label)  # tensor vector\n",
        "\n",
        "test_dataset = TestDataset(test_set_path, test_labels, transform=transform)\n",
        "test_loader = DataLoader(test_dataset, batch_size=32, shuffle=False, num_workers=2)\n",
        "print(f\"Number of images in test set: {len(test_dataset)}\")\n",
        "\n",
        "# model\n",
        "models_dict = {\n",
        "    'AlexNet': models.alexnet(weights=models.AlexNet_Weights.DEFAULT),\n",
        "    'ResNet152': models.resnet152(weights=models.ResNet152_Weights.DEFAULT),\n",
        "    'Inception_V3': models.inception_v3(weights=models.Inception_V3_Weights.DEFAULT)\n",
        "}\n",
        "\n",
        "# modify ouput layer\n",
        "num_classes = len(all_labels)\n",
        "for model_name, model in models_dict.items():\n",
        "    if hasattr(model, 'fc'):  # ResNet and Inception-V3\n",
        "        model.fc = torch.nn.Linear(model.fc.in_features, num_classes)\n",
        "    elif hasattr(model, 'classifier'):  # AlexNet\n",
        "        model.classifier[6] = torch.nn.Linear(model.classifier[6].in_features, num_classes)\n",
        "    models_dict[model_name] = model.to(device)\n",
        "\n",
        "# loss function\n",
        "criterion = torch.nn.BCEWithLogitsLoss()\n",
        "\n",
        "results = []\n",
        "\n",
        "for model_name, model in models_dict.items():\n",
        "    model.eval()\n",
        "    all_predictions = []\n",
        "    all_labels = []\n",
        "    processed_images = 0\n",
        "    print(f\"Evaluating model: {model_name}\")\n",
        "\n",
        "    # loopover DataLoader\n",
        "    with tqdm(total=len(test_loader), desc=f\"Evaluating {model_name}\", unit=\"batch\") as pbar:\n",
        "      for images, labels in test_loader:\n",
        "          images = images.to(device)\n",
        "          labels = labels.to(device)\n",
        "\n",
        "          with torch.no_grad():\n",
        "              output = model(images)\n",
        "              probs = torch.sigmoid(output)\n",
        "              all_predictions.extend(probs.cpu().numpy())\n",
        "              all_labels.extend(labels.cpu().numpy())\n",
        "\n",
        "          # progress updates\n",
        "          processed_images += images.size(0)\n",
        "          pbar.update(1)\n",
        "          pbar.set_postfix({\"Processed images\": processed_images})\n",
        "\n",
        "    auc = roc_auc_score(all_labels, all_predictions, average='weighted', multi_class='ovr')\n",
        "    ce_loss = criterion(torch.tensor(all_predictions, dtype=torch.float32),torch.tensor(all_labels, dtype=torch.float32)).item()\n",
        "    f1 = f1_score(all_labels, (torch.tensor(all_predictions) > 0.5).int(), average='weighted')\n",
        "    print(f\"Model: {model_name}, CE Loss: {ce_loss}, F1-score: {f1}, AUC: {auc}\")\n",
        "    results.append([model_name, ce_loss, f1, auc])\n",
        "\n",
        "results_df = pd.DataFrame(results, columns=['Model', 'CE Loss', 'F1-score', 'AUC'])\n",
        "results_df.to_csv(output_path, index=False)\n",
        "print(f\"Results saved to {output_path}\")\n"
      ],
      "metadata": {
        "id": "seZ3Enc5DoDW"
      },
      "execution_count": null,
      "outputs": []
    },
    {
      "cell_type": "code",
      "source": [
        "df = pd.read_csv(output_path)\n",
        "df"
      ],
      "metadata": {
        "colab": {
          "base_uri": "https://localhost:8080/",
          "height": 143
        },
        "id": "h7MonhSUUjJb",
        "outputId": "09a37fb9-555e-4c1e-c690-4e790e5091f8"
      },
      "execution_count": null,
      "outputs": [
        {
          "output_type": "execute_result",
          "data": {
            "text/plain": [
              "          Model   CE Loss  F1-score       AUC\n",
              "0       AlexNet  0.909271  0.251376  0.469882\n",
              "1     ResNet152  0.928557  0.274560  0.498605\n",
              "2  Inception_V3  0.936244  0.287510  0.500713"
            ],
            "text/html": [
              "\n",
              "  <div id=\"df-0ea9fb0b-885c-4bb2-80ba-0cc70f05afaa\" class=\"colab-df-container\">\n",
              "    <div>\n",
              "<style scoped>\n",
              "    .dataframe tbody tr th:only-of-type {\n",
              "        vertical-align: middle;\n",
              "    }\n",
              "\n",
              "    .dataframe tbody tr th {\n",
              "        vertical-align: top;\n",
              "    }\n",
              "\n",
              "    .dataframe thead th {\n",
              "        text-align: right;\n",
              "    }\n",
              "</style>\n",
              "<table border=\"1\" class=\"dataframe\">\n",
              "  <thead>\n",
              "    <tr style=\"text-align: right;\">\n",
              "      <th></th>\n",
              "      <th>Model</th>\n",
              "      <th>CE Loss</th>\n",
              "      <th>F1-score</th>\n",
              "      <th>AUC</th>\n",
              "    </tr>\n",
              "  </thead>\n",
              "  <tbody>\n",
              "    <tr>\n",
              "      <th>0</th>\n",
              "      <td>AlexNet</td>\n",
              "      <td>0.909271</td>\n",
              "      <td>0.251376</td>\n",
              "      <td>0.469882</td>\n",
              "    </tr>\n",
              "    <tr>\n",
              "      <th>1</th>\n",
              "      <td>ResNet152</td>\n",
              "      <td>0.928557</td>\n",
              "      <td>0.274560</td>\n",
              "      <td>0.498605</td>\n",
              "    </tr>\n",
              "    <tr>\n",
              "      <th>2</th>\n",
              "      <td>Inception_V3</td>\n",
              "      <td>0.936244</td>\n",
              "      <td>0.287510</td>\n",
              "      <td>0.500713</td>\n",
              "    </tr>\n",
              "  </tbody>\n",
              "</table>\n",
              "</div>\n",
              "    <div class=\"colab-df-buttons\">\n",
              "\n",
              "  <div class=\"colab-df-container\">\n",
              "    <button class=\"colab-df-convert\" onclick=\"convertToInteractive('df-0ea9fb0b-885c-4bb2-80ba-0cc70f05afaa')\"\n",
              "            title=\"Convert this dataframe to an interactive table.\"\n",
              "            style=\"display:none;\">\n",
              "\n",
              "  <svg xmlns=\"http://www.w3.org/2000/svg\" height=\"24px\" viewBox=\"0 -960 960 960\">\n",
              "    <path d=\"M120-120v-720h720v720H120Zm60-500h600v-160H180v160Zm220 220h160v-160H400v160Zm0 220h160v-160H400v160ZM180-400h160v-160H180v160Zm440 0h160v-160H620v160ZM180-180h160v-160H180v160Zm440 0h160v-160H620v160Z\"/>\n",
              "  </svg>\n",
              "    </button>\n",
              "\n",
              "  <style>\n",
              "    .colab-df-container {\n",
              "      display:flex;\n",
              "      gap: 12px;\n",
              "    }\n",
              "\n",
              "    .colab-df-convert {\n",
              "      background-color: #E8F0FE;\n",
              "      border: none;\n",
              "      border-radius: 50%;\n",
              "      cursor: pointer;\n",
              "      display: none;\n",
              "      fill: #1967D2;\n",
              "      height: 32px;\n",
              "      padding: 0 0 0 0;\n",
              "      width: 32px;\n",
              "    }\n",
              "\n",
              "    .colab-df-convert:hover {\n",
              "      background-color: #E2EBFA;\n",
              "      box-shadow: 0px 1px 2px rgba(60, 64, 67, 0.3), 0px 1px 3px 1px rgba(60, 64, 67, 0.15);\n",
              "      fill: #174EA6;\n",
              "    }\n",
              "\n",
              "    .colab-df-buttons div {\n",
              "      margin-bottom: 4px;\n",
              "    }\n",
              "\n",
              "    [theme=dark] .colab-df-convert {\n",
              "      background-color: #3B4455;\n",
              "      fill: #D2E3FC;\n",
              "    }\n",
              "\n",
              "    [theme=dark] .colab-df-convert:hover {\n",
              "      background-color: #434B5C;\n",
              "      box-shadow: 0px 1px 3px 1px rgba(0, 0, 0, 0.15);\n",
              "      filter: drop-shadow(0px 1px 2px rgba(0, 0, 0, 0.3));\n",
              "      fill: #FFFFFF;\n",
              "    }\n",
              "  </style>\n",
              "\n",
              "    <script>\n",
              "      const buttonEl =\n",
              "        document.querySelector('#df-0ea9fb0b-885c-4bb2-80ba-0cc70f05afaa button.colab-df-convert');\n",
              "      buttonEl.style.display =\n",
              "        google.colab.kernel.accessAllowed ? 'block' : 'none';\n",
              "\n",
              "      async function convertToInteractive(key) {\n",
              "        const element = document.querySelector('#df-0ea9fb0b-885c-4bb2-80ba-0cc70f05afaa');\n",
              "        const dataTable =\n",
              "          await google.colab.kernel.invokeFunction('convertToInteractive',\n",
              "                                                    [key], {});\n",
              "        if (!dataTable) return;\n",
              "\n",
              "        const docLinkHtml = 'Like what you see? Visit the ' +\n",
              "          '<a target=\"_blank\" href=https://colab.research.google.com/notebooks/data_table.ipynb>data table notebook</a>'\n",
              "          + ' to learn more about interactive tables.';\n",
              "        element.innerHTML = '';\n",
              "        dataTable['output_type'] = 'display_data';\n",
              "        await google.colab.output.renderOutput(dataTable, element);\n",
              "        const docLink = document.createElement('div');\n",
              "        docLink.innerHTML = docLinkHtml;\n",
              "        element.appendChild(docLink);\n",
              "      }\n",
              "    </script>\n",
              "  </div>\n",
              "\n",
              "\n",
              "<div id=\"df-fa90d66f-78ec-4bc6-8c79-c225a627aac9\">\n",
              "  <button class=\"colab-df-quickchart\" onclick=\"quickchart('df-fa90d66f-78ec-4bc6-8c79-c225a627aac9')\"\n",
              "            title=\"Suggest charts\"\n",
              "            style=\"display:none;\">\n",
              "\n",
              "<svg xmlns=\"http://www.w3.org/2000/svg\" height=\"24px\"viewBox=\"0 0 24 24\"\n",
              "     width=\"24px\">\n",
              "    <g>\n",
              "        <path d=\"M19 3H5c-1.1 0-2 .9-2 2v14c0 1.1.9 2 2 2h14c1.1 0 2-.9 2-2V5c0-1.1-.9-2-2-2zM9 17H7v-7h2v7zm4 0h-2V7h2v10zm4 0h-2v-4h2v4z\"/>\n",
              "    </g>\n",
              "</svg>\n",
              "  </button>\n",
              "\n",
              "<style>\n",
              "  .colab-df-quickchart {\n",
              "      --bg-color: #E8F0FE;\n",
              "      --fill-color: #1967D2;\n",
              "      --hover-bg-color: #E2EBFA;\n",
              "      --hover-fill-color: #174EA6;\n",
              "      --disabled-fill-color: #AAA;\n",
              "      --disabled-bg-color: #DDD;\n",
              "  }\n",
              "\n",
              "  [theme=dark] .colab-df-quickchart {\n",
              "      --bg-color: #3B4455;\n",
              "      --fill-color: #D2E3FC;\n",
              "      --hover-bg-color: #434B5C;\n",
              "      --hover-fill-color: #FFFFFF;\n",
              "      --disabled-bg-color: #3B4455;\n",
              "      --disabled-fill-color: #666;\n",
              "  }\n",
              "\n",
              "  .colab-df-quickchart {\n",
              "    background-color: var(--bg-color);\n",
              "    border: none;\n",
              "    border-radius: 50%;\n",
              "    cursor: pointer;\n",
              "    display: none;\n",
              "    fill: var(--fill-color);\n",
              "    height: 32px;\n",
              "    padding: 0;\n",
              "    width: 32px;\n",
              "  }\n",
              "\n",
              "  .colab-df-quickchart:hover {\n",
              "    background-color: var(--hover-bg-color);\n",
              "    box-shadow: 0 1px 2px rgba(60, 64, 67, 0.3), 0 1px 3px 1px rgba(60, 64, 67, 0.15);\n",
              "    fill: var(--button-hover-fill-color);\n",
              "  }\n",
              "\n",
              "  .colab-df-quickchart-complete:disabled,\n",
              "  .colab-df-quickchart-complete:disabled:hover {\n",
              "    background-color: var(--disabled-bg-color);\n",
              "    fill: var(--disabled-fill-color);\n",
              "    box-shadow: none;\n",
              "  }\n",
              "\n",
              "  .colab-df-spinner {\n",
              "    border: 2px solid var(--fill-color);\n",
              "    border-color: transparent;\n",
              "    border-bottom-color: var(--fill-color);\n",
              "    animation:\n",
              "      spin 1s steps(1) infinite;\n",
              "  }\n",
              "\n",
              "  @keyframes spin {\n",
              "    0% {\n",
              "      border-color: transparent;\n",
              "      border-bottom-color: var(--fill-color);\n",
              "      border-left-color: var(--fill-color);\n",
              "    }\n",
              "    20% {\n",
              "      border-color: transparent;\n",
              "      border-left-color: var(--fill-color);\n",
              "      border-top-color: var(--fill-color);\n",
              "    }\n",
              "    30% {\n",
              "      border-color: transparent;\n",
              "      border-left-color: var(--fill-color);\n",
              "      border-top-color: var(--fill-color);\n",
              "      border-right-color: var(--fill-color);\n",
              "    }\n",
              "    40% {\n",
              "      border-color: transparent;\n",
              "      border-right-color: var(--fill-color);\n",
              "      border-top-color: var(--fill-color);\n",
              "    }\n",
              "    60% {\n",
              "      border-color: transparent;\n",
              "      border-right-color: var(--fill-color);\n",
              "    }\n",
              "    80% {\n",
              "      border-color: transparent;\n",
              "      border-right-color: var(--fill-color);\n",
              "      border-bottom-color: var(--fill-color);\n",
              "    }\n",
              "    90% {\n",
              "      border-color: transparent;\n",
              "      border-bottom-color: var(--fill-color);\n",
              "    }\n",
              "  }\n",
              "</style>\n",
              "\n",
              "  <script>\n",
              "    async function quickchart(key) {\n",
              "      const quickchartButtonEl =\n",
              "        document.querySelector('#' + key + ' button');\n",
              "      quickchartButtonEl.disabled = true;  // To prevent multiple clicks.\n",
              "      quickchartButtonEl.classList.add('colab-df-spinner');\n",
              "      try {\n",
              "        const charts = await google.colab.kernel.invokeFunction(\n",
              "            'suggestCharts', [key], {});\n",
              "      } catch (error) {\n",
              "        console.error('Error during call to suggestCharts:', error);\n",
              "      }\n",
              "      quickchartButtonEl.classList.remove('colab-df-spinner');\n",
              "      quickchartButtonEl.classList.add('colab-df-quickchart-complete');\n",
              "    }\n",
              "    (() => {\n",
              "      let quickchartButtonEl =\n",
              "        document.querySelector('#df-fa90d66f-78ec-4bc6-8c79-c225a627aac9 button');\n",
              "      quickchartButtonEl.style.display =\n",
              "        google.colab.kernel.accessAllowed ? 'block' : 'none';\n",
              "    })();\n",
              "  </script>\n",
              "</div>\n",
              "\n",
              "  <div id=\"id_a0ab45b2-40cb-45eb-b2a4-2feea8001784\">\n",
              "    <style>\n",
              "      .colab-df-generate {\n",
              "        background-color: #E8F0FE;\n",
              "        border: none;\n",
              "        border-radius: 50%;\n",
              "        cursor: pointer;\n",
              "        display: none;\n",
              "        fill: #1967D2;\n",
              "        height: 32px;\n",
              "        padding: 0 0 0 0;\n",
              "        width: 32px;\n",
              "      }\n",
              "\n",
              "      .colab-df-generate:hover {\n",
              "        background-color: #E2EBFA;\n",
              "        box-shadow: 0px 1px 2px rgba(60, 64, 67, 0.3), 0px 1px 3px 1px rgba(60, 64, 67, 0.15);\n",
              "        fill: #174EA6;\n",
              "      }\n",
              "\n",
              "      [theme=dark] .colab-df-generate {\n",
              "        background-color: #3B4455;\n",
              "        fill: #D2E3FC;\n",
              "      }\n",
              "\n",
              "      [theme=dark] .colab-df-generate:hover {\n",
              "        background-color: #434B5C;\n",
              "        box-shadow: 0px 1px 3px 1px rgba(0, 0, 0, 0.15);\n",
              "        filter: drop-shadow(0px 1px 2px rgba(0, 0, 0, 0.3));\n",
              "        fill: #FFFFFF;\n",
              "      }\n",
              "    </style>\n",
              "    <button class=\"colab-df-generate\" onclick=\"generateWithVariable('df')\"\n",
              "            title=\"Generate code using this dataframe.\"\n",
              "            style=\"display:none;\">\n",
              "\n",
              "  <svg xmlns=\"http://www.w3.org/2000/svg\" height=\"24px\"viewBox=\"0 0 24 24\"\n",
              "       width=\"24px\">\n",
              "    <path d=\"M7,19H8.4L18.45,9,17,7.55,7,17.6ZM5,21V16.75L18.45,3.32a2,2,0,0,1,2.83,0l1.4,1.43a1.91,1.91,0,0,1,.58,1.4,1.91,1.91,0,0,1-.58,1.4L9.25,21ZM18.45,9,17,7.55Zm-12,3A5.31,5.31,0,0,0,4.9,8.1,5.31,5.31,0,0,0,1,6.5,5.31,5.31,0,0,0,4.9,4.9,5.31,5.31,0,0,0,6.5,1,5.31,5.31,0,0,0,8.1,4.9,5.31,5.31,0,0,0,12,6.5,5.46,5.46,0,0,0,6.5,12Z\"/>\n",
              "  </svg>\n",
              "    </button>\n",
              "    <script>\n",
              "      (() => {\n",
              "      const buttonEl =\n",
              "        document.querySelector('#id_a0ab45b2-40cb-45eb-b2a4-2feea8001784 button.colab-df-generate');\n",
              "      buttonEl.style.display =\n",
              "        google.colab.kernel.accessAllowed ? 'block' : 'none';\n",
              "\n",
              "      buttonEl.onclick = () => {\n",
              "        google.colab.notebook.generateWithVariable('df');\n",
              "      }\n",
              "      })();\n",
              "    </script>\n",
              "  </div>\n",
              "\n",
              "    </div>\n",
              "  </div>\n"
            ],
            "application/vnd.google.colaboratory.intrinsic+json": {
              "type": "dataframe",
              "variable_name": "df",
              "summary": "{\n  \"name\": \"df\",\n  \"rows\": 3,\n  \"fields\": [\n    {\n      \"column\": \"Model\",\n      \"properties\": {\n        \"dtype\": \"string\",\n        \"num_unique_values\": 3,\n        \"samples\": [\n          \"AlexNet\",\n          \"ResNet152\",\n          \"Inception_V3\"\n        ],\n        \"semantic_type\": \"\",\n        \"description\": \"\"\n      }\n    },\n    {\n      \"column\": \"CE Loss\",\n      \"properties\": {\n        \"dtype\": \"number\",\n        \"std\": 0.013895467014022729,\n        \"min\": 0.909271478652954,\n        \"max\": 0.9362435936927797,\n        \"num_unique_values\": 3,\n        \"samples\": [\n          0.909271478652954,\n          0.928556740283966,\n          0.9362435936927797\n        ],\n        \"semantic_type\": \"\",\n        \"description\": \"\"\n      }\n    },\n    {\n      \"column\": \"F1-score\",\n      \"properties\": {\n        \"dtype\": \"number\",\n        \"std\": 0.01830722797709891,\n        \"min\": 0.2513755687496808,\n        \"max\": 0.2875101425453478,\n        \"num_unique_values\": 3,\n        \"samples\": [\n          0.2513755687496808,\n          0.2745598099242831,\n          0.2875101425453478\n        ],\n        \"semantic_type\": \"\",\n        \"description\": \"\"\n      }\n    },\n    {\n      \"column\": \"AUC\",\n      \"properties\": {\n        \"dtype\": \"number\",\n        \"std\": 0.017223919390395467,\n        \"min\": 0.4698824288341438,\n        \"max\": 0.500713184557706,\n        \"num_unique_values\": 3,\n        \"samples\": [\n          0.4698824288341438,\n          0.4986052697763189,\n          0.500713184557706\n        ],\n        \"semantic_type\": \"\",\n        \"description\": \"\"\n      }\n    }\n  ]\n}"
            }
          },
          "metadata": {},
          "execution_count": 4
        }
      ]
    },
    {
      "cell_type": "markdown",
      "source": [
        "1.6 Train the AlexNet and do evaluation"
      ],
      "metadata": {
        "id": "-UyN2NeOkDjw"
      }
    },
    {
      "cell_type": "code",
      "source": [
        "import os\n",
        "import torch\n",
        "import torchvision.transforms as transforms\n",
        "from torchvision import models\n",
        "from torch.utils.data import Dataset, DataLoader\n",
        "from PIL import Image\n",
        "from sklearn.metrics import f1_score, roc_auc_score\n",
        "import torch.nn as nn\n",
        "import torch.optim as optim\n",
        "import pandas as pd\n",
        "from tqdm import tqdm\n",
        "import matplotlib.pyplot as plt\n",
        "\n",
        "# paths\n",
        "train_set_mini_path = '/content/drive/MyDrive/CS7643_DL_project/Dataset/Train_set_mini'\n",
        "test_set_mini_path = '/content/drive/MyDrive/CS7643_DL_project/Dataset/Test_set_mini'\n",
        "test_set_label_mini_path = '/content/drive/MyDrive/CS7643_DL_project/Dataset/test_set_label_mini.csv'\n",
        "train_set_label_mini_path = '/content/drive/MyDrive/CS7643_DL_project/Dataset/train_set_label_mini.csv'  # train_set_label_mini.csv 文件路径\n",
        "data_entry_path = '/content/drive/MyDrive/CS7643_DL_project/Dataset/Data_Entry_2017.csv'\n",
        "\n",
        "\n",
        "device = torch.device(\"cuda\" if torch.cuda.is_available() else \"cpu\")\n",
        "print(f\"Using device: {device}\")\n",
        "\n",
        "data_entry_df = pd.read_csv(data_entry_path)\n",
        "test_labels_mini_df = pd.read_csv(test_set_label_mini_path)\n",
        "train_labels_df = pd.read_csv(train_set_label_mini_path)\n",
        "\n",
        "train_labels = {row['Image Index']: row['Finding Labels'] for _, row in train_labels_df.iterrows()}  # 创建 train_labels 字典\n",
        "test_labels = {row['Image Index']: row['Finding Labels'] for _, row in test_labels_mini_df.iterrows()}  # 创建 test_labels 字典\n",
        "\n",
        "all_labels = sorted(set(label for labels in train_labels.values() for label in labels.split('|')))\n",
        "label_to_idx = {label: idx for idx, label in enumerate(all_labels)}\n",
        "\n",
        "# onehot encoding\n",
        "def encode_labels(labels):\n",
        "    encoded = [0] * len(label_to_idx)\n",
        "    for label in labels.split('|'):\n",
        "        if label in label_to_idx:\n",
        "            encoded[label_to_idx[label]] = 1\n",
        "    return encoded\n",
        "\n",
        "# image preprocessing\n",
        "transform = transforms.Compose([\n",
        "    transforms.Resize((224, 224)),\n",
        "    transforms.ToTensor(),\n",
        "    transforms.Normalize(mean=[0.485, 0.456, 0.406], std=[0.229, 0.224, 0.225])\n",
        "])\n",
        "\n",
        "# class to handle dataset\n",
        "class CustomDataset(Dataset):\n",
        "    def __init__(self, image_dir, labels, transform=None):\n",
        "        self.image_dir = image_dir\n",
        "        self.labels = labels\n",
        "        self.transform = transform\n",
        "        self.image_names = [f for f in os.listdir(image_dir) if f in labels]\n",
        "\n",
        "    def __len__(self):\n",
        "        return len(self.image_names)\n",
        "\n",
        "    def __getitem__(self, idx):\n",
        "        image_name = self.image_names[idx]\n",
        "        image_path = os.path.join(self.image_dir, image_name)\n",
        "        image = Image.open(image_path).convert('RGB')\n",
        "        if self.transform:\n",
        "            image = self.transform(image)\n",
        "        label = torch.tensor(encode_labels(self.labels[image_name]), dtype=torch.float32)  # 转为张量\n",
        "        return image, label\n",
        "\n",
        "train_dataset = CustomDataset(train_set_mini_path, train_labels, transform=transform)\n",
        "test_dataset = CustomDataset(test_set_mini_path, test_labels, transform=transform)\n",
        "\n",
        "train_loader = DataLoader(train_dataset, batch_size=64, shuffle=True, num_workers=2)\n",
        "test_loader = DataLoader(test_dataset, batch_size=32, shuffle=False, num_workers=2)\n",
        "\n",
        "# laodding alexnet\n",
        "model = models.alexnet(weights=models.AlexNet_Weights.DEFAULT)\n",
        "\n",
        "# only train last layer\n",
        "num_ftrs = model.classifier[6].in_features\n",
        "model.classifier[6] = nn.Linear(num_ftrs, len(label_to_idx))  # 假设标签是多热编码\n",
        "\n",
        "# move to device\n",
        "model.to(device)\n",
        "\n",
        "# loss function and optimizer\n",
        "criterion_ce = nn.BCEWithLogitsLoss()\n",
        "\n",
        "class FocalLoss(nn.Module):\n",
        "    \"\"\"Focal Loss for multi-label classification.\"\"\"\n",
        "    def __init__(self, gamma=2, alpha=0.25):\n",
        "        super(FocalLoss, self).__init__()\n",
        "        self.gamma = gamma\n",
        "        self.alpha = alpha\n",
        "\n",
        "    def forward(self, inputs, targets):\n",
        "        bce_loss = nn.BCEWithLogitsLoss(reduction='none')(inputs, targets)\n",
        "        pt = torch.exp(-bce_loss)\n",
        "        focal_loss = self.alpha * (1 - pt) ** self.gamma * bce_loss\n",
        "        return focal_loss.mean()\n",
        "\n",
        "criterion_focal = FocalLoss()\n",
        "optimizer = optim.Adam(model.parameters(), lr=0.001, weight_decay=0.0001)\n",
        "scheduler = torch.optim.lr_scheduler.StepLR(optimizer, step_size=5, gamma=0.1)  # lr/10 every 5 epochs\n",
        "\n",
        "\n",
        "# train the model\n",
        "num_epochs = 20\n",
        "train_losses = []\n",
        "for epoch in range(num_epochs):\n",
        "    model.train()\n",
        "    running_loss = 0.0\n",
        "    for images, labels in tqdm(train_loader, desc=f\"Epoch {epoch+1}/{num_epochs}\"):\n",
        "        images, labels = images.to(device), labels.to(device)\n",
        "\n",
        "        optimizer.zero_grad()\n",
        "        outputs = model(images)\n",
        "        # loss = criterion_ce(outputs, labels)  #  CE Loss\n",
        "        loss = criterion_focal(outputs, labels)  # Focal Loss\n",
        "        loss.backward()\n",
        "        optimizer.step()\n",
        "        running_loss += loss.item()\n",
        "    epoch_loss = running_loss / len(train_loader)\n",
        "    train_losses.append(epoch_loss)\n",
        "    print(f\"Epoch {epoch+1}, Loss: {running_loss / len(train_loader):.4f}\")\n",
        "    scheduler.step()\n",
        "#plotplt.figure(figsize=(10, 6))\n",
        "plt.plot(range(1, num_epochs + 1), train_losses, marker='o', label='Training Loss')\n",
        "plt.title('Training Loss Over Epochs')\n",
        "plt.xlabel('Epoch')\n",
        "plt.ylabel('Loss')\n",
        "plt.xticks(range(1, num_epochs + 1))\n",
        "plt.legend()\n",
        "plt.grid()\n",
        "plt.show()\n",
        "\n",
        "# evaluate\n",
        "model.eval()\n",
        "all_predictions = []\n",
        "all_labels = []\n",
        "with torch.no_grad():\n",
        "    for images, labels in tqdm(test_loader, desc=\"Evaluating\"):\n",
        "        images, labels = images.to(device), labels.to(device)\n",
        "        outputs = model(images)\n",
        "        probs = torch.sigmoid(outputs)\n",
        "        all_predictions.extend(probs.cpu().numpy())\n",
        "        all_labels.extend(labels.cpu().numpy())\n",
        "\n",
        "# score calculation\n",
        "all_predictions_tensor = torch.tensor(all_predictions, dtype=torch.float32)\n",
        "all_labels_tensor = torch.tensor(all_labels, dtype=torch.float32)\n",
        "ce_loss = criterion_ce(all_predictions_tensor, all_labels_tensor).item()\n",
        "focal_loss = criterion_focal(all_predictions_tensor, all_labels_tensor).item()\n",
        "f1 = f1_score(all_labels_tensor.numpy(), (all_predictions_tensor > 0.5).int().numpy(), average='weighted')\n",
        "auc = roc_auc_score(all_labels_tensor.numpy(), all_predictions_tensor.numpy(), average='weighted')\n",
        "\n",
        "print(f\"Trained AlexNet Evaluation Results:\")\n",
        "print(f\"CE Loss: {ce_loss:.4f}\")\n",
        "print(f\"Focal Loss: {focal_loss:.4f}\")\n",
        "print(f\"F1 Score: {f1:.4f}\")\n",
        "print(f\"AUC: {auc:.4f}\")\n",
        "\n",
        "torch.save(model.state_dict(), '/content/drive/MyDrive/CS7643_DL_project/Dataset/alexnet_trained_weights.pth')  # 将权重保存到文件\n",
        "print(\"Model weights saved to: /content/drive/MyDrive/CS7643_DL_project/Dataset/alexnet_trained_weights.pth\")\n"
      ],
      "metadata": {
        "colab": {
          "base_uri": "https://localhost:8080/",
          "height": 1000
        },
        "id": "r7rPXqJmW3Ew",
        "outputId": "2ee3afcb-b2d9-49de-d3c6-da1d1e1b4fe5"
      },
      "execution_count": null,
      "outputs": [
        {
          "metadata": {
            "tags": null
          },
          "name": "stdout",
          "output_type": "stream",
          "text": [
            "Using device: cuda\n"
          ]
        },
        {
          "output_type": "stream",
          "name": "stderr",
          "text": [
            "Epoch 1/20: 100%|██████████| 135/135 [03:34<00:00,  1.59s/it]\n"
          ]
        },
        {
          "output_type": "stream",
          "name": "stdout",
          "text": [
            "Epoch 1, Loss: 0.0144\n"
          ]
        },
        {
          "output_type": "stream",
          "name": "stderr",
          "text": [
            "Epoch 2/20: 100%|██████████| 135/135 [01:52<00:00,  1.20it/s]\n"
          ]
        },
        {
          "output_type": "stream",
          "name": "stdout",
          "text": [
            "Epoch 2, Loss: 0.0140\n"
          ]
        },
        {
          "output_type": "stream",
          "name": "stderr",
          "text": [
            "Epoch 3/20: 100%|██████████| 135/135 [01:52<00:00,  1.20it/s]\n"
          ]
        },
        {
          "output_type": "stream",
          "name": "stdout",
          "text": [
            "Epoch 3, Loss: 0.0131\n"
          ]
        },
        {
          "output_type": "stream",
          "name": "stderr",
          "text": [
            "Epoch 4/20: 100%|██████████| 135/135 [01:51<00:00,  1.21it/s]\n"
          ]
        },
        {
          "output_type": "stream",
          "name": "stdout",
          "text": [
            "Epoch 4, Loss: 0.0131\n"
          ]
        },
        {
          "output_type": "stream",
          "name": "stderr",
          "text": [
            "Epoch 5/20: 100%|██████████| 135/135 [01:51<00:00,  1.21it/s]\n"
          ]
        },
        {
          "output_type": "stream",
          "name": "stdout",
          "text": [
            "Epoch 5, Loss: 0.0130\n"
          ]
        },
        {
          "output_type": "stream",
          "name": "stderr",
          "text": [
            "Epoch 6/20: 100%|██████████| 135/135 [01:47<00:00,  1.26it/s]\n"
          ]
        },
        {
          "output_type": "stream",
          "name": "stdout",
          "text": [
            "Epoch 6, Loss: 0.0127\n"
          ]
        },
        {
          "output_type": "stream",
          "name": "stderr",
          "text": [
            "Epoch 7/20: 100%|██████████| 135/135 [01:51<00:00,  1.21it/s]\n"
          ]
        },
        {
          "output_type": "stream",
          "name": "stdout",
          "text": [
            "Epoch 7, Loss: 0.0126\n"
          ]
        },
        {
          "output_type": "stream",
          "name": "stderr",
          "text": [
            "Epoch 8/20: 100%|██████████| 135/135 [01:51<00:00,  1.21it/s]\n"
          ]
        },
        {
          "output_type": "stream",
          "name": "stdout",
          "text": [
            "Epoch 8, Loss: 0.0125\n"
          ]
        },
        {
          "output_type": "stream",
          "name": "stderr",
          "text": [
            "Epoch 9/20: 100%|██████████| 135/135 [01:51<00:00,  1.21it/s]\n"
          ]
        },
        {
          "output_type": "stream",
          "name": "stdout",
          "text": [
            "Epoch 9, Loss: 0.0125\n"
          ]
        },
        {
          "output_type": "stream",
          "name": "stderr",
          "text": [
            "Epoch 10/20: 100%|██████████| 135/135 [01:51<00:00,  1.21it/s]\n"
          ]
        },
        {
          "output_type": "stream",
          "name": "stdout",
          "text": [
            "Epoch 10, Loss: 0.0124\n"
          ]
        },
        {
          "output_type": "stream",
          "name": "stderr",
          "text": [
            "Epoch 11/20: 100%|██████████| 135/135 [01:51<00:00,  1.21it/s]\n"
          ]
        },
        {
          "output_type": "stream",
          "name": "stdout",
          "text": [
            "Epoch 11, Loss: 0.0123\n"
          ]
        },
        {
          "output_type": "stream",
          "name": "stderr",
          "text": [
            "Epoch 12/20: 100%|██████████| 135/135 [01:51<00:00,  1.21it/s]\n"
          ]
        },
        {
          "output_type": "stream",
          "name": "stdout",
          "text": [
            "Epoch 12, Loss: 0.0123\n"
          ]
        },
        {
          "output_type": "stream",
          "name": "stderr",
          "text": [
            "Epoch 13/20: 100%|██████████| 135/135 [01:51<00:00,  1.21it/s]\n"
          ]
        },
        {
          "output_type": "stream",
          "name": "stdout",
          "text": [
            "Epoch 13, Loss: 0.0123\n"
          ]
        },
        {
          "output_type": "stream",
          "name": "stderr",
          "text": [
            "Epoch 14/20: 100%|██████████| 135/135 [01:51<00:00,  1.21it/s]\n"
          ]
        },
        {
          "output_type": "stream",
          "name": "stdout",
          "text": [
            "Epoch 14, Loss: 0.0123\n"
          ]
        },
        {
          "output_type": "stream",
          "name": "stderr",
          "text": [
            "Epoch 15/20: 100%|██████████| 135/135 [01:52<00:00,  1.20it/s]\n"
          ]
        },
        {
          "output_type": "stream",
          "name": "stdout",
          "text": [
            "Epoch 15, Loss: 0.0123\n"
          ]
        },
        {
          "output_type": "stream",
          "name": "stderr",
          "text": [
            "Epoch 16/20: 100%|██████████| 135/135 [01:52<00:00,  1.20it/s]\n"
          ]
        },
        {
          "output_type": "stream",
          "name": "stdout",
          "text": [
            "Epoch 16, Loss: 0.0123\n"
          ]
        },
        {
          "output_type": "stream",
          "name": "stderr",
          "text": [
            "Epoch 17/20: 100%|██████████| 135/135 [01:52<00:00,  1.20it/s]\n"
          ]
        },
        {
          "output_type": "stream",
          "name": "stdout",
          "text": [
            "Epoch 17, Loss: 0.0122\n"
          ]
        },
        {
          "output_type": "stream",
          "name": "stderr",
          "text": [
            "Epoch 18/20: 100%|██████████| 135/135 [01:51<00:00,  1.21it/s]\n"
          ]
        },
        {
          "output_type": "stream",
          "name": "stdout",
          "text": [
            "Epoch 18, Loss: 0.0122\n"
          ]
        },
        {
          "output_type": "stream",
          "name": "stderr",
          "text": [
            "Epoch 19/20: 100%|██████████| 135/135 [01:51<00:00,  1.21it/s]\n"
          ]
        },
        {
          "output_type": "stream",
          "name": "stdout",
          "text": [
            "Epoch 19, Loss: 0.0123\n"
          ]
        },
        {
          "output_type": "stream",
          "name": "stderr",
          "text": [
            "Epoch 20/20: 100%|██████████| 135/135 [01:52<00:00,  1.21it/s]\n"
          ]
        },
        {
          "output_type": "stream",
          "name": "stdout",
          "text": [
            "Epoch 20, Loss: 0.0123\n"
          ]
        },
        {
          "output_type": "display_data",
          "data": {
            "text/plain": [
              "<Figure size 640x480 with 1 Axes>"
            ],
            "image/png": "[encoded data removed]"
          },
          "metadata": {}
        },
        {
          "output_type": "stream",
          "name": "stderr",
          "text": [
            "Evaluating: 100%|██████████| 78/78 [00:32<00:00,  2.44it/s]\n"
          ]
        },
        {
          "output_type": "error",
          "ename": "AttributeError",
          "evalue": "'list' object has no attribute 'size'",
          "traceback": [
            "\u001b[0;31m---------------------------------------------------------------------------\u001b[0m",
            "\u001b[0;31mAttributeError\u001b[0m                            Traceback (most recent call last)",
            "\u001b[0;32m<ipython-input-10-03acb5bf78f3>\u001b[0m in \u001b[0;36m<cell line: 152>\u001b[0;34m()\u001b[0m\n\u001b[1;32m    150\u001b[0m \u001b[0mall_predictions_tensor\u001b[0m \u001b[0;34m=\u001b[0m \u001b[0mtorch\u001b[0m\u001b[0;34m.\u001b[0m\u001b[0mtensor\u001b[0m\u001b[0;34m(\u001b[0m\u001b[0mall_predictions\u001b[0m\u001b[0;34m,\u001b[0m \u001b[0mdtype\u001b[0m\u001b[0;34m=\u001b[0m\u001b[0mtorch\u001b[0m\u001b[0;34m.\u001b[0m\u001b[0mfloat32\u001b[0m\u001b[0;34m)\u001b[0m\u001b[0;34m\u001b[0m\u001b[0;34m\u001b[0m\u001b[0m\n\u001b[1;32m    151\u001b[0m \u001b[0mall_labels_tensor\u001b[0m \u001b[0;34m=\u001b[0m \u001b[0mtorch\u001b[0m\u001b[0;34m.\u001b[0m\u001b[0mtensor\u001b[0m\u001b[0;34m(\u001b[0m\u001b[0mall_labels\u001b[0m\u001b[0;34m,\u001b[0m \u001b[0mdtype\u001b[0m\u001b[0;34m=\u001b[0m\u001b[0mtorch\u001b[0m\u001b[0;34m.\u001b[0m\u001b[0mfloat32\u001b[0m\u001b[0;34m)\u001b[0m\u001b[0;34m\u001b[0m\u001b[0;34m\u001b[0m\u001b[0m\n\u001b[0;32m--> 152\u001b[0;31m \u001b[0mce_loss\u001b[0m \u001b[0;34m=\u001b[0m \u001b[0mcriterion_ce\u001b[0m\u001b[0;34m(\u001b[0m\u001b[0mall_predictions\u001b[0m\u001b[0;34m,\u001b[0m \u001b[0mall_labels\u001b[0m\u001b[0;34m)\u001b[0m\u001b[0;34m.\u001b[0m\u001b[0mitem\u001b[0m\u001b[0;34m(\u001b[0m\u001b[0;34m)\u001b[0m\u001b[0;34m\u001b[0m\u001b[0;34m\u001b[0m\u001b[0m\n\u001b[0m\u001b[1;32m    153\u001b[0m \u001b[0mfocal_loss\u001b[0m \u001b[0;34m=\u001b[0m \u001b[0mcriterion_focal\u001b[0m\u001b[0;34m(\u001b[0m\u001b[0mall_predictions\u001b[0m\u001b[0;34m,\u001b[0m \u001b[0mall_labels\u001b[0m\u001b[0;34m)\u001b[0m\u001b[0;34m.\u001b[0m\u001b[0mitem\u001b[0m\u001b[0;34m(\u001b[0m\u001b[0;34m)\u001b[0m\u001b[0;34m\u001b[0m\u001b[0;34m\u001b[0m\u001b[0m\n\u001b[1;32m    154\u001b[0m \u001b[0mf1\u001b[0m \u001b[0;34m=\u001b[0m \u001b[0mf1_score\u001b[0m\u001b[0;34m(\u001b[0m\u001b[0mall_labels\u001b[0m\u001b[0;34m.\u001b[0m\u001b[0mnumpy\u001b[0m\u001b[0;34m(\u001b[0m\u001b[0;34m)\u001b[0m\u001b[0;34m,\u001b[0m \u001b[0;34m(\u001b[0m\u001b[0mall_predictions\u001b[0m \u001b[0;34m>\u001b[0m \u001b[0;36m0.5\u001b[0m\u001b[0;34m)\u001b[0m\u001b[0;34m.\u001b[0m\u001b[0mint\u001b[0m\u001b[0;34m(\u001b[0m\u001b[0;34m)\u001b[0m\u001b[0;34m.\u001b[0m\u001b[0mnumpy\u001b[0m\u001b[0;34m(\u001b[0m\u001b[0;34m)\u001b[0m\u001b[0;34m,\u001b[0m \u001b[0maverage\u001b[0m\u001b[0;34m=\u001b[0m\u001b[0;34m'weighted'\u001b[0m\u001b[0;34m)\u001b[0m\u001b[0;34m\u001b[0m\u001b[0;34m\u001b[0m\u001b[0m\n",
            "\u001b[0;32m/usr/local/lib/python3.10/dist-packages/torch/nn/modules/module.py\u001b[0m in \u001b[0;36m_wrapped_call_impl\u001b[0;34m(self, *args, **kwargs)\u001b[0m\n\u001b[1;32m   1734\u001b[0m             \u001b[0;32mreturn\u001b[0m \u001b[0mself\u001b[0m\u001b[0;34m.\u001b[0m\u001b[0m_compiled_call_impl\u001b[0m\u001b[0;34m(\u001b[0m\u001b[0;34m*\u001b[0m\u001b[0margs\u001b[0m\u001b[0;34m,\u001b[0m \u001b[0;34m**\u001b[0m\u001b[0mkwargs\u001b[0m\u001b[0;34m)\u001b[0m  \u001b[0;31m# type: ignore[misc]\u001b[0m\u001b[0;34m\u001b[0m\u001b[0;34m\u001b[0m\u001b[0m\n\u001b[1;32m   1735\u001b[0m         \u001b[0;32melse\u001b[0m\u001b[0;34m:\u001b[0m\u001b[0;34m\u001b[0m\u001b[0;34m\u001b[0m\u001b[0m\n\u001b[0;32m-> 1736\u001b[0;31m             \u001b[0;32mreturn\u001b[0m \u001b[0mself\u001b[0m\u001b[0;34m.\u001b[0m\u001b[0m_call_impl\u001b[0m\u001b[0;34m(\u001b[0m\u001b[0;34m*\u001b[0m\u001b[0margs\u001b[0m\u001b[0;34m,\u001b[0m \u001b[0;34m**\u001b[0m\u001b[0mkwargs\u001b[0m\u001b[0;34m)\u001b[0m\u001b[0;34m\u001b[0m\u001b[0;34m\u001b[0m\u001b[0m\n\u001b[0m\u001b[1;32m   1737\u001b[0m \u001b[0;34m\u001b[0m\u001b[0m\n\u001b[1;32m   1738\u001b[0m     \u001b[0;31m# torchrec tests the code consistency with the following code\u001b[0m\u001b[0;34m\u001b[0m\u001b[0;34m\u001b[0m\u001b[0m\n",
            "\u001b[0;32m/usr/local/lib/python3.10/dist-packages/torch/nn/modules/module.py\u001b[0m in \u001b[0;36m_call_impl\u001b[0;34m(self, *args, **kwargs)\u001b[0m\n\u001b[1;32m   1745\u001b[0m                 \u001b[0;32mor\u001b[0m \u001b[0m_global_backward_pre_hooks\u001b[0m \u001b[0;32mor\u001b[0m \u001b[0m_global_backward_hooks\u001b[0m\u001b[0;34m\u001b[0m\u001b[0;34m\u001b[0m\u001b[0m\n\u001b[1;32m   1746\u001b[0m                 or _global_forward_hooks or _global_forward_pre_hooks):\n\u001b[0;32m-> 1747\u001b[0;31m             \u001b[0;32mreturn\u001b[0m \u001b[0mforward_call\u001b[0m\u001b[0;34m(\u001b[0m\u001b[0;34m*\u001b[0m\u001b[0margs\u001b[0m\u001b[0;34m,\u001b[0m \u001b[0;34m**\u001b[0m\u001b[0mkwargs\u001b[0m\u001b[0;34m)\u001b[0m\u001b[0;34m\u001b[0m\u001b[0;34m\u001b[0m\u001b[0m\n\u001b[0m\u001b[1;32m   1748\u001b[0m \u001b[0;34m\u001b[0m\u001b[0m\n\u001b[1;32m   1749\u001b[0m         \u001b[0mresult\u001b[0m \u001b[0;34m=\u001b[0m \u001b[0;32mNone\u001b[0m\u001b[0;34m\u001b[0m\u001b[0;34m\u001b[0m\u001b[0m\n",
            "\u001b[0;32m/usr/local/lib/python3.10/dist-packages/torch/nn/modules/loss.py\u001b[0m in \u001b[0;36mforward\u001b[0;34m(self, input, target)\u001b[0m\n\u001b[1;32m    817\u001b[0m \u001b[0;34m\u001b[0m\u001b[0m\n\u001b[1;32m    818\u001b[0m     \u001b[0;32mdef\u001b[0m \u001b[0mforward\u001b[0m\u001b[0;34m(\u001b[0m\u001b[0mself\u001b[0m\u001b[0;34m,\u001b[0m \u001b[0minput\u001b[0m\u001b[0;34m:\u001b[0m \u001b[0mTensor\u001b[0m\u001b[0;34m,\u001b[0m \u001b[0mtarget\u001b[0m\u001b[0;34m:\u001b[0m \u001b[0mTensor\u001b[0m\u001b[0;34m)\u001b[0m \u001b[0;34m->\u001b[0m \u001b[0mTensor\u001b[0m\u001b[0;34m:\u001b[0m\u001b[0;34m\u001b[0m\u001b[0;34m\u001b[0m\u001b[0m\n\u001b[0;32m--> 819\u001b[0;31m         return F.binary_cross_entropy_with_logits(\n\u001b[0m\u001b[1;32m    820\u001b[0m             \u001b[0minput\u001b[0m\u001b[0;34m,\u001b[0m\u001b[0;34m\u001b[0m\u001b[0;34m\u001b[0m\u001b[0m\n\u001b[1;32m    821\u001b[0m             \u001b[0mtarget\u001b[0m\u001b[0;34m,\u001b[0m\u001b[0;34m\u001b[0m\u001b[0;34m\u001b[0m\u001b[0m\n",
            "\u001b[0;32m/usr/local/lib/python3.10/dist-packages/torch/nn/functional.py\u001b[0m in \u001b[0;36mbinary_cross_entropy_with_logits\u001b[0;34m(input, target, weight, size_average, reduce, reduction, pos_weight)\u001b[0m\n\u001b[1;32m   3621\u001b[0m         \u001b[0mreduction_enum\u001b[0m \u001b[0;34m=\u001b[0m \u001b[0m_Reduction\u001b[0m\u001b[0;34m.\u001b[0m\u001b[0mget_enum\u001b[0m\u001b[0;34m(\u001b[0m\u001b[0mreduction\u001b[0m\u001b[0;34m)\u001b[0m\u001b[0;34m\u001b[0m\u001b[0;34m\u001b[0m\u001b[0m\n\u001b[1;32m   3622\u001b[0m \u001b[0;34m\u001b[0m\u001b[0m\n\u001b[0;32m-> 3623\u001b[0;31m     \u001b[0;32mif\u001b[0m \u001b[0;32mnot\u001b[0m \u001b[0;34m(\u001b[0m\u001b[0mtarget\u001b[0m\u001b[0;34m.\u001b[0m\u001b[0msize\u001b[0m\u001b[0;34m(\u001b[0m\u001b[0;34m)\u001b[0m \u001b[0;34m==\u001b[0m \u001b[0minput\u001b[0m\u001b[0;34m.\u001b[0m\u001b[0msize\u001b[0m\u001b[0;34m(\u001b[0m\u001b[0;34m)\u001b[0m\u001b[0;34m)\u001b[0m\u001b[0;34m:\u001b[0m\u001b[0;34m\u001b[0m\u001b[0;34m\u001b[0m\u001b[0m\n\u001b[0m\u001b[1;32m   3624\u001b[0m         raise ValueError(\n\u001b[1;32m   3625\u001b[0m             \u001b[0;34mf\"Target size ({target.size()}) must be the same as input size ({input.size()})\"\u001b[0m\u001b[0;34m\u001b[0m\u001b[0;34m\u001b[0m\u001b[0m\n",
            "\u001b[0;31mAttributeError\u001b[0m: 'list' object has no attribute 'size'"
          ]
        }
      ]
    },
    {
      "cell_type": "code",
      "source": [
        "\n",
        "print('all_predictions_tensor:',all_predictions_tensor)\n",
        "print('all_labels_tensor:',all_labels_tensor)\n",
        "ce_loss = criterion_ce(all_predictions_tensor, all_labels_tensor).item()\n",
        "focal_loss = criterion_focal(all_predictions_tensor, all_labels_tensor).item()\n",
        "f1 = f1_score(all_labels_tensor.numpy(), (all_predictions_tensor > 0.5).int().numpy(), average='weighted')\n",
        "auc = roc_auc_score(all_labels_tensor.numpy(), all_predictions_tensor.numpy(), average='weighted')\n",
        "\n",
        "print(f\"Trained AlexNet Evaluation Results:\")\n",
        "print(f\"CE Loss: {ce_loss:.4f}\")\n",
        "print(f\"Focal Loss: {focal_loss:.4f}\")\n",
        "print(f\"F1 Score: {f1:.4f}\")\n",
        "print(f\"AUC: {auc:.4f}\")\n",
        "\n",
        "torch.save(model.state_dict(), '/content/drive/MyDrive/CS7643_DL_project/Dataset/alexnet_trained_weights.pth')  # 将权重保存到文件\n",
        "print(\"Model weights saved to: /content/drive/MyDrive/CS7643_DL_project/Dataset/alexnet_trained_weights.pth\")"
      ],
      "metadata": {
        "colab": {
          "base_uri": "https://localhost:8080/"
        },
        "id": "Bo4-Ua9D3Jgz",
        "outputId": "c16d4a96-756f-41e3-8688-afdeb0199304"
      },
      "execution_count": null,
      "outputs": [
        {
          "output_type": "stream",
          "name": "stdout",
          "text": [
            "all_predictions_tensor: tensor([[0.3159, 0.2060, 0.2309,  ..., 0.2220, 0.1678, 0.2335],\n",
            "        [0.3312, 0.2058, 0.2435,  ..., 0.2188, 0.1705, 0.2345],\n",
            "        [0.3053, 0.1943, 0.2169,  ..., 0.2111, 0.1551, 0.2220],\n",
            "        ...,\n",
            "        [0.3146, 0.2005, 0.2275,  ..., 0.2161, 0.1626, 0.2285],\n",
            "        [0.3692, 0.2190, 0.2834,  ..., 0.2262, 0.1909, 0.2492],\n",
            "        [0.3161, 0.1993, 0.2278,  ..., 0.2145, 0.1616, 0.2271]])\n",
            "all_labels_tensor: tensor([[1., 0., 0.,  ..., 0., 0., 0.],\n",
            "        [1., 0., 0.,  ..., 0., 0., 0.],\n",
            "        [1., 0., 0.,  ..., 0., 0., 0.],\n",
            "        ...,\n",
            "        [0., 0., 0.,  ..., 0., 0., 1.],\n",
            "        [0., 0., 0.,  ..., 0., 0., 1.],\n",
            "        [0., 0., 0.,  ..., 0., 0., 1.]])\n",
            "Trained AlexNet Evaluation Results:\n",
            "CE Loss: 0.7925\n",
            "Focal Loss: 0.0605\n",
            "F1 Score: 0.1596\n",
            "AUC: 0.6397\n",
            "Model weights saved to: /content/drive/MyDrive/CS7643_DL_project/Dataset/alexnet_trained_weights.pth\n"
          ]
        }
      ]
    }
  ]
}